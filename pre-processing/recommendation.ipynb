{
 "cells": [
  {
   "cell_type": "code",
   "execution_count": 1,
   "metadata": {},
   "outputs": [],
   "source": [
    "import pandas as pd\n",
    "pd.options.mode.chained_assignment = None \n",
    "import numpy as np\n",
    "import csv"
   ]
  },
  {
   "cell_type": "code",
   "execution_count": 2,
   "metadata": {},
   "outputs": [],
   "source": [
    "recipe=pd.read_csv('RAW_recipes.csv')"
   ]
  },
  {
   "cell_type": "code",
   "execution_count": 6,
   "metadata": {},
   "outputs": [
    {
     "output_type": "execute_result",
     "data": {
      "text/plain": "        Unnamed: 0                                          name      id  \\\n0                0    arriba   baked winter squash mexican style  137739   \n1                1              a bit different  breakfast pizza   31490   \n2                2                     all in the kitchen  chili  112140   \n3                3                            alouette  potatoes   59389   \n4                4            amish  tomato ketchup  for canning   44061   \n...            ...                                           ...     ...   \n231632      231632                                   zydeco soup  486161   \n231633      231633                              zydeco spice mix  493372   \n231634      231634                     zydeco ya ya deviled eggs  308080   \n231635      231635        cookies by design   cookies on a stick  298512   \n231636      231636  cookies by design   sugar shortbread cookies  298509   \n\n        minutes  contributor_id   submitted  \\\n0            55           47892  2005-09-16   \n1            30           26278  2002-06-17   \n2           130          196586  2005-02-25   \n3            45           68585  2003-04-14   \n4           190           41706  2002-10-25   \n...         ...             ...         ...   \n231632       60          227978  2012-08-29   \n231633        5         1500678  2013-01-09   \n231634       40           37779  2008-06-07   \n231635       29          506822  2008-04-15   \n231636       20          506822  2008-04-15   \n\n                                                     tags  \\\n0       ['60-minutes-or-less', 'time-to-make', 'course...   \n1       ['30-minutes-or-less', 'time-to-make', 'course...   \n2       ['time-to-make', 'course', 'preparation', 'mai...   \n3       ['60-minutes-or-less', 'time-to-make', 'course...   \n4       ['weeknight', 'time-to-make', 'course', 'main-...   \n...                                                   ...   \n231632  ['ham', '60-minutes-or-less', 'time-to-make', ...   \n231633  ['15-minutes-or-less', 'time-to-make', 'course...   \n231634  ['60-minutes-or-less', 'time-to-make', 'course...   \n231635  ['30-minutes-or-less', 'time-to-make', 'course...   \n231636  ['30-minutes-or-less', 'time-to-make', 'course...   \n\n                                          nutrition  n_steps  \\\n0             [51.5, 0.0, 13.0, 0.0, 2.0, 0.0, 4.0]       11   \n1         [173.4, 18.0, 0.0, 17.0, 22.0, 35.0, 1.0]        9   \n2        [269.8, 22.0, 32.0, 48.0, 39.0, 27.0, 5.0]        6   \n3         [368.1, 17.0, 10.0, 2.0, 14.0, 8.0, 20.0]       11   \n4         [352.9, 1.0, 337.0, 23.0, 3.0, 0.0, 28.0]        5   \n...                                             ...      ...   \n231632  [415.2, 26.0, 34.0, 26.0, 44.0, 21.0, 15.0]        7   \n231633        [14.8, 0.0, 2.0, 58.0, 1.0, 0.0, 1.0]        1   \n231634         [59.2, 6.0, 2.0, 3.0, 6.0, 5.0, 0.0]        7   \n231635    [188.0, 11.0, 57.0, 11.0, 7.0, 21.0, 9.0]        9   \n231636     [174.9, 14.0, 33.0, 4.0, 4.0, 11.0, 6.0]        5   \n\n                                                    steps  \\\n0       ['make a choice and proceed with recipe', 'dep...   \n1       ['preheat oven to 425 degrees f', 'press dough...   \n2       ['brown ground beef in large pot', 'add choppe...   \n3       ['place potatoes in a large pot of lightly sal...   \n4       ['mix all ingredients& boil for 2 1 / 2 hours ...   \n...                                                   ...   \n231632  ['heat oil in a 4-quart dutch oven', 'add cele...   \n231633        ['mix all ingredients together thoroughly']   \n231634  ['in a bowl , combine the mashed yolks and may...   \n231635  ['place melted butter in a large mixing bowl a...   \n231636  ['whip sugar and shortening in a large bowl , ...   \n\n                                              description  \\\n0       autumn is my favorite time of year to cook! th...   \n1       this recipe calls for the crust to be prebaked...   \n2       this modified version of 'mom's' chili was a h...   \n3       this is a super easy, great tasting, make ahea...   \n4       my dh's amish mother raised him on this recipe...   \n...                                                   ...   \n231632  this is a delicious soup that i originally fou...   \n231633    this spice mix will make your taste buds dance!   \n231634                          deviled eggs, cajun-style   \n231635  i've heard of the 'cookies by design' company,...   \n231636  i've heard of the 'cookies by design' company,...   \n\n                                              ingredients  n_ingredients  \\\n0       ['winter squash', 'mexican seasoning', 'mixed ...              7   \n1       ['prepared pizza crust', 'sausage patty', 'egg...              6   \n2       ['ground beef', 'yellow onions', 'diced tomato...             13   \n3       ['spreadable cheese with garlic and herbs', 'n...             11   \n4       ['tomato juice', 'apple cider vinegar', 'sugar...              8   \n...                                                   ...            ...   \n231632  ['celery', 'onion', 'green sweet pepper', 'gar...             22   \n231633  ['paprika', 'salt', 'garlic powder', 'onion po...             13   \n231634  ['hard-cooked eggs', 'mayonnaise', 'dijon must...              8   \n231635  ['butter', 'eagle brand condensed milk', 'ligh...             10   \n231636  ['granulated sugar', 'shortening', 'eggs', 'fl...              7   \n\n       food type    cal  \n0        Healthy   51.5  \n1        Healthy  173.4  \n2        Healthy  269.8  \n3            Veg  368.1  \n4            Veg  352.9  \n...          ...    ...  \n231632   Non-veg  415.2  \n231633       Veg   14.8  \n231634   Healthy   59.2  \n231635   Healthy  188.0  \n231636   Healthy  174.9  \n\n[231637 rows x 15 columns]",
      "text/html": "<div>\n<style scoped>\n    .dataframe tbody tr th:only-of-type {\n        vertical-align: middle;\n    }\n\n    .dataframe tbody tr th {\n        vertical-align: top;\n    }\n\n    .dataframe thead th {\n        text-align: right;\n    }\n</style>\n<table border=\"1\" class=\"dataframe\">\n  <thead>\n    <tr style=\"text-align: right;\">\n      <th></th>\n      <th>Unnamed: 0</th>\n      <th>name</th>\n      <th>id</th>\n      <th>minutes</th>\n      <th>contributor_id</th>\n      <th>submitted</th>\n      <th>tags</th>\n      <th>nutrition</th>\n      <th>n_steps</th>\n      <th>steps</th>\n      <th>description</th>\n      <th>ingredients</th>\n      <th>n_ingredients</th>\n      <th>food type</th>\n      <th>cal</th>\n    </tr>\n  </thead>\n  <tbody>\n    <tr>\n      <th>0</th>\n      <td>0</td>\n      <td>arriba   baked winter squash mexican style</td>\n      <td>137739</td>\n      <td>55</td>\n      <td>47892</td>\n      <td>2005-09-16</td>\n      <td>['60-minutes-or-less', 'time-to-make', 'course...</td>\n      <td>[51.5, 0.0, 13.0, 0.0, 2.0, 0.0, 4.0]</td>\n      <td>11</td>\n      <td>['make a choice and proceed with recipe', 'dep...</td>\n      <td>autumn is my favorite time of year to cook! th...</td>\n      <td>['winter squash', 'mexican seasoning', 'mixed ...</td>\n      <td>7</td>\n      <td>Healthy</td>\n      <td>51.5</td>\n    </tr>\n    <tr>\n      <th>1</th>\n      <td>1</td>\n      <td>a bit different  breakfast pizza</td>\n      <td>31490</td>\n      <td>30</td>\n      <td>26278</td>\n      <td>2002-06-17</td>\n      <td>['30-minutes-or-less', 'time-to-make', 'course...</td>\n      <td>[173.4, 18.0, 0.0, 17.0, 22.0, 35.0, 1.0]</td>\n      <td>9</td>\n      <td>['preheat oven to 425 degrees f', 'press dough...</td>\n      <td>this recipe calls for the crust to be prebaked...</td>\n      <td>['prepared pizza crust', 'sausage patty', 'egg...</td>\n      <td>6</td>\n      <td>Healthy</td>\n      <td>173.4</td>\n    </tr>\n    <tr>\n      <th>2</th>\n      <td>2</td>\n      <td>all in the kitchen  chili</td>\n      <td>112140</td>\n      <td>130</td>\n      <td>196586</td>\n      <td>2005-02-25</td>\n      <td>['time-to-make', 'course', 'preparation', 'mai...</td>\n      <td>[269.8, 22.0, 32.0, 48.0, 39.0, 27.0, 5.0]</td>\n      <td>6</td>\n      <td>['brown ground beef in large pot', 'add choppe...</td>\n      <td>this modified version of 'mom's' chili was a h...</td>\n      <td>['ground beef', 'yellow onions', 'diced tomato...</td>\n      <td>13</td>\n      <td>Healthy</td>\n      <td>269.8</td>\n    </tr>\n    <tr>\n      <th>3</th>\n      <td>3</td>\n      <td>alouette  potatoes</td>\n      <td>59389</td>\n      <td>45</td>\n      <td>68585</td>\n      <td>2003-04-14</td>\n      <td>['60-minutes-or-less', 'time-to-make', 'course...</td>\n      <td>[368.1, 17.0, 10.0, 2.0, 14.0, 8.0, 20.0]</td>\n      <td>11</td>\n      <td>['place potatoes in a large pot of lightly sal...</td>\n      <td>this is a super easy, great tasting, make ahea...</td>\n      <td>['spreadable cheese with garlic and herbs', 'n...</td>\n      <td>11</td>\n      <td>Veg</td>\n      <td>368.1</td>\n    </tr>\n    <tr>\n      <th>4</th>\n      <td>4</td>\n      <td>amish  tomato ketchup  for canning</td>\n      <td>44061</td>\n      <td>190</td>\n      <td>41706</td>\n      <td>2002-10-25</td>\n      <td>['weeknight', 'time-to-make', 'course', 'main-...</td>\n      <td>[352.9, 1.0, 337.0, 23.0, 3.0, 0.0, 28.0]</td>\n      <td>5</td>\n      <td>['mix all ingredients&amp; boil for 2 1 / 2 hours ...</td>\n      <td>my dh's amish mother raised him on this recipe...</td>\n      <td>['tomato juice', 'apple cider vinegar', 'sugar...</td>\n      <td>8</td>\n      <td>Veg</td>\n      <td>352.9</td>\n    </tr>\n    <tr>\n      <th>...</th>\n      <td>...</td>\n      <td>...</td>\n      <td>...</td>\n      <td>...</td>\n      <td>...</td>\n      <td>...</td>\n      <td>...</td>\n      <td>...</td>\n      <td>...</td>\n      <td>...</td>\n      <td>...</td>\n      <td>...</td>\n      <td>...</td>\n      <td>...</td>\n      <td>...</td>\n    </tr>\n    <tr>\n      <th>231632</th>\n      <td>231632</td>\n      <td>zydeco soup</td>\n      <td>486161</td>\n      <td>60</td>\n      <td>227978</td>\n      <td>2012-08-29</td>\n      <td>['ham', '60-minutes-or-less', 'time-to-make', ...</td>\n      <td>[415.2, 26.0, 34.0, 26.0, 44.0, 21.0, 15.0]</td>\n      <td>7</td>\n      <td>['heat oil in a 4-quart dutch oven', 'add cele...</td>\n      <td>this is a delicious soup that i originally fou...</td>\n      <td>['celery', 'onion', 'green sweet pepper', 'gar...</td>\n      <td>22</td>\n      <td>Non-veg</td>\n      <td>415.2</td>\n    </tr>\n    <tr>\n      <th>231633</th>\n      <td>231633</td>\n      <td>zydeco spice mix</td>\n      <td>493372</td>\n      <td>5</td>\n      <td>1500678</td>\n      <td>2013-01-09</td>\n      <td>['15-minutes-or-less', 'time-to-make', 'course...</td>\n      <td>[14.8, 0.0, 2.0, 58.0, 1.0, 0.0, 1.0]</td>\n      <td>1</td>\n      <td>['mix all ingredients together thoroughly']</td>\n      <td>this spice mix will make your taste buds dance!</td>\n      <td>['paprika', 'salt', 'garlic powder', 'onion po...</td>\n      <td>13</td>\n      <td>Veg</td>\n      <td>14.8</td>\n    </tr>\n    <tr>\n      <th>231634</th>\n      <td>231634</td>\n      <td>zydeco ya ya deviled eggs</td>\n      <td>308080</td>\n      <td>40</td>\n      <td>37779</td>\n      <td>2008-06-07</td>\n      <td>['60-minutes-or-less', 'time-to-make', 'course...</td>\n      <td>[59.2, 6.0, 2.0, 3.0, 6.0, 5.0, 0.0]</td>\n      <td>7</td>\n      <td>['in a bowl , combine the mashed yolks and may...</td>\n      <td>deviled eggs, cajun-style</td>\n      <td>['hard-cooked eggs', 'mayonnaise', 'dijon must...</td>\n      <td>8</td>\n      <td>Healthy</td>\n      <td>59.2</td>\n    </tr>\n    <tr>\n      <th>231635</th>\n      <td>231635</td>\n      <td>cookies by design   cookies on a stick</td>\n      <td>298512</td>\n      <td>29</td>\n      <td>506822</td>\n      <td>2008-04-15</td>\n      <td>['30-minutes-or-less', 'time-to-make', 'course...</td>\n      <td>[188.0, 11.0, 57.0, 11.0, 7.0, 21.0, 9.0]</td>\n      <td>9</td>\n      <td>['place melted butter in a large mixing bowl a...</td>\n      <td>i've heard of the 'cookies by design' company,...</td>\n      <td>['butter', 'eagle brand condensed milk', 'ligh...</td>\n      <td>10</td>\n      <td>Healthy</td>\n      <td>188.0</td>\n    </tr>\n    <tr>\n      <th>231636</th>\n      <td>231636</td>\n      <td>cookies by design   sugar shortbread cookies</td>\n      <td>298509</td>\n      <td>20</td>\n      <td>506822</td>\n      <td>2008-04-15</td>\n      <td>['30-minutes-or-less', 'time-to-make', 'course...</td>\n      <td>[174.9, 14.0, 33.0, 4.0, 4.0, 11.0, 6.0]</td>\n      <td>5</td>\n      <td>['whip sugar and shortening in a large bowl , ...</td>\n      <td>i've heard of the 'cookies by design' company,...</td>\n      <td>['granulated sugar', 'shortening', 'eggs', 'fl...</td>\n      <td>7</td>\n      <td>Healthy</td>\n      <td>174.9</td>\n    </tr>\n  </tbody>\n</table>\n<p>231637 rows × 15 columns</p>\n</div>"
     },
     "metadata": {},
     "execution_count": 6
    }
   ],
   "source": [
    "df=pd.DataFrame(recipe)\n",
    "df"
   ]
  },
  {
   "cell_type": "code",
   "execution_count": 3,
   "metadata": {},
   "outputs": [],
   "source": [
    "food=input('type of food o')"
   ]
  },
  {
   "cell_type": "code",
   "execution_count": 4,
   "metadata": {},
   "outputs": [],
   "source": [
    "time=input('how long do you want to cook?')"
   ]
  },
  {
   "cell_type": "code",
   "execution_count": 7,
   "metadata": {},
   "outputs": [],
   "source": [
    "nam=[]\n",
    "mins=[]\n",
    "nut=[]\n",
    "setp=[]\n",
    "des=[]\n",
    "ind=[]\n",
    "\n",
    "\n",
    "for i in df.index:\n",
    "    if(df['food type'][i]==food and 15<df['minutes'][i]<30):\n",
    "        nam.append(df['name'][i])\n",
    "        mins.append(df['minutes'][i])\n",
    "        nut.append(df['nutrition'][i])\n",
    "        setp.append(df['steps'][i])\n",
    "        des.append(df['description'][i])\n",
    "        ind.append(df['ingredients'][i])"
   ]
  },
  {
   "cell_type": "code",
   "execution_count": 9,
   "metadata": {},
   "outputs": [],
   "source": [
    "list_of_tuples = list(zip(nam, mins,nut,setp,des,ind)) \n",
    "df3 = pd.DataFrame(list_of_tuples, columns = ['Name', 'Minutes','Nutritient','Steps','Description','Ingridients']) "
   ]
  },
  {
   "cell_type": "code",
   "execution_count": 12,
   "metadata": {},
   "outputs": [
    {
     "output_type": "execute_result",
     "data": {
      "text/plain": "                                                  Name  Minutes  \\\n0                        250 00 chocolate chip cookies       20   \n1        subway  white chocolate macadamia nut cookies       20   \n2                don t eat the  yellow snowman cookies       17   \n3                        5 star chocolate chip cookies       25   \n4    abby s ultimate chocolate chocolate  chip cookies       27   \n..                                                 ...      ...   \n634                      yummy  candy  monster cookies       20   \n635                yummy chocolate lennie chip cookies       20   \n636                       yummy dark chocolate cookies       25   \n637                     yummy  chocolate chip brownies       27   \n638                 zaar s down   oatmeal chip cookies       22   \n\n                                            Nutritient  \\\n0    [5286.9, 427.0, 1630.0, 159.0, 163.0, 656.0, 2...   \n1             [221.8, 20.0, 63.0, 7.0, 4.0, 33.0, 8.0]   \n2              [141.9, 10.0, 43.0, 6.0, 3.0, 8.0, 6.0]   \n3    [6785.0, 498.0, 2574.0, 167.0, 141.0, 974.0, 3...   \n4             [158.4, 12.0, 53.0, 4.0, 3.0, 25.0, 6.0]   \n..                                                 ...   \n634            [165.0, 10.0, 60.0, 5.0, 4.0, 8.0, 8.0]   \n635           [135.7, 12.0, 43.0, 5.0, 2.0, 14.0, 5.0]   \n636           [134.8, 10.0, 52.0, 4.0, 3.0, 20.0, 6.0]   \n637            [105.7, 6.0, 45.0, 2.0, 2.0, 12.0, 5.0]   \n638    [1459.1, 109.0, 494.0, 52.0, 34.0, 119.0, 65.0]   \n\n                                                 Steps  \\\n0    ['mix all ingredients together just until blen...   \n1    ['make sure the oven keeps the right temperatu...   \n2    ['heat oven to 350f', 'in large bowl , combine...   \n3    ['preheat oven to 350 degrees', 'cream togethe...   \n4    ['preheat oven to 350 degrees f', 'in large bo...   \n..                                                 ...   \n634  ['preheat oven to 350f', 'cream together marga...   \n635  ['combine the cake mix , eggs and oil in a lar...   \n636  ['preheat oven to 180c line baking trays with ...   \n637  ['combine the brown sugar , butter , eggs and ...   \n638  ['in a large bowl , cream butter and sugars un...   \n\n                                           Description  \\\n0          these are great! the perfect name for them!   \n1    everyone loves these cookies from subway.. i p...   \n2    everyone knows you shouldn't eat yellow snow, ...   \n3    this recipe makes the best home made chocolate...   \n4    soft and moist on the inside with just a littl...   \n..                                                 ...   \n634  i don't remember were this recipe came from bu...   \n635  this recipe was created thanks to the generosi...   \n636  delicious with a glass of milk! has a great in...   \n637  these brownies are like chocolate chip cookies...   \n638  after trying unsuccessfully to log on to recip...   \n\n                                           Ingridients  \n0    ['butter', 'white sugar', 'brown sugar', 'eggs...  \n1    ['butter', 'brown sugar', 'granulated sugar', ...  \n2    ['lemon cake mix', 'vegetable oil', 'eggs', 'f...  \n3    ['butter', 'white sugar', 'brown sugar', 'eggs...  \n4    ['butter', 'white sugar', 'eggs', 'vanilla ext...  \n..                                                 ...  \n634  ['margarine', 'brown sugar', 'white sugar', 'b...  \n635  ['chocolate cake mix', 'vegetable oil', 'eggs'...  \n636  ['flour', 'cocoa powder', 'baking soda', 'coar...  \n637  ['brown sugar', 'butter', 'eggs', 'vanilla ext...  \n638  ['margarine', 'sugar', 'brown sugar', 'eggs', ...  \n\n[639 rows x 6 columns]",
      "text/html": "<div>\n<style scoped>\n    .dataframe tbody tr th:only-of-type {\n        vertical-align: middle;\n    }\n\n    .dataframe tbody tr th {\n        vertical-align: top;\n    }\n\n    .dataframe thead th {\n        text-align: right;\n    }\n</style>\n<table border=\"1\" class=\"dataframe\">\n  <thead>\n    <tr style=\"text-align: right;\">\n      <th></th>\n      <th>Name</th>\n      <th>Minutes</th>\n      <th>Nutritient</th>\n      <th>Steps</th>\n      <th>Description</th>\n      <th>Ingridients</th>\n    </tr>\n  </thead>\n  <tbody>\n    <tr>\n      <th>0</th>\n      <td>250 00 chocolate chip cookies</td>\n      <td>20</td>\n      <td>[5286.9, 427.0, 1630.0, 159.0, 163.0, 656.0, 2...</td>\n      <td>['mix all ingredients together just until blen...</td>\n      <td>these are great! the perfect name for them!</td>\n      <td>['butter', 'white sugar', 'brown sugar', 'eggs...</td>\n    </tr>\n    <tr>\n      <th>1</th>\n      <td>subway  white chocolate macadamia nut cookies</td>\n      <td>20</td>\n      <td>[221.8, 20.0, 63.0, 7.0, 4.0, 33.0, 8.0]</td>\n      <td>['make sure the oven keeps the right temperatu...</td>\n      <td>everyone loves these cookies from subway.. i p...</td>\n      <td>['butter', 'brown sugar', 'granulated sugar', ...</td>\n    </tr>\n    <tr>\n      <th>2</th>\n      <td>don t eat the  yellow snowman cookies</td>\n      <td>17</td>\n      <td>[141.9, 10.0, 43.0, 6.0, 3.0, 8.0, 6.0]</td>\n      <td>['heat oven to 350f', 'in large bowl , combine...</td>\n      <td>everyone knows you shouldn't eat yellow snow, ...</td>\n      <td>['lemon cake mix', 'vegetable oil', 'eggs', 'f...</td>\n    </tr>\n    <tr>\n      <th>3</th>\n      <td>5 star chocolate chip cookies</td>\n      <td>25</td>\n      <td>[6785.0, 498.0, 2574.0, 167.0, 141.0, 974.0, 3...</td>\n      <td>['preheat oven to 350 degrees', 'cream togethe...</td>\n      <td>this recipe makes the best home made chocolate...</td>\n      <td>['butter', 'white sugar', 'brown sugar', 'eggs...</td>\n    </tr>\n    <tr>\n      <th>4</th>\n      <td>abby s ultimate chocolate chocolate  chip cookies</td>\n      <td>27</td>\n      <td>[158.4, 12.0, 53.0, 4.0, 3.0, 25.0, 6.0]</td>\n      <td>['preheat oven to 350 degrees f', 'in large bo...</td>\n      <td>soft and moist on the inside with just a littl...</td>\n      <td>['butter', 'white sugar', 'eggs', 'vanilla ext...</td>\n    </tr>\n    <tr>\n      <th>...</th>\n      <td>...</td>\n      <td>...</td>\n      <td>...</td>\n      <td>...</td>\n      <td>...</td>\n      <td>...</td>\n    </tr>\n    <tr>\n      <th>634</th>\n      <td>yummy  candy  monster cookies</td>\n      <td>20</td>\n      <td>[165.0, 10.0, 60.0, 5.0, 4.0, 8.0, 8.0]</td>\n      <td>['preheat oven to 350f', 'cream together marga...</td>\n      <td>i don't remember were this recipe came from bu...</td>\n      <td>['margarine', 'brown sugar', 'white sugar', 'b...</td>\n    </tr>\n    <tr>\n      <th>635</th>\n      <td>yummy chocolate lennie chip cookies</td>\n      <td>20</td>\n      <td>[135.7, 12.0, 43.0, 5.0, 2.0, 14.0, 5.0]</td>\n      <td>['combine the cake mix , eggs and oil in a lar...</td>\n      <td>this recipe was created thanks to the generosi...</td>\n      <td>['chocolate cake mix', 'vegetable oil', 'eggs'...</td>\n    </tr>\n    <tr>\n      <th>636</th>\n      <td>yummy dark chocolate cookies</td>\n      <td>25</td>\n      <td>[134.8, 10.0, 52.0, 4.0, 3.0, 20.0, 6.0]</td>\n      <td>['preheat oven to 180c line baking trays with ...</td>\n      <td>delicious with a glass of milk! has a great in...</td>\n      <td>['flour', 'cocoa powder', 'baking soda', 'coar...</td>\n    </tr>\n    <tr>\n      <th>637</th>\n      <td>yummy  chocolate chip brownies</td>\n      <td>27</td>\n      <td>[105.7, 6.0, 45.0, 2.0, 2.0, 12.0, 5.0]</td>\n      <td>['combine the brown sugar , butter , eggs and ...</td>\n      <td>these brownies are like chocolate chip cookies...</td>\n      <td>['brown sugar', 'butter', 'eggs', 'vanilla ext...</td>\n    </tr>\n    <tr>\n      <th>638</th>\n      <td>zaar s down   oatmeal chip cookies</td>\n      <td>22</td>\n      <td>[1459.1, 109.0, 494.0, 52.0, 34.0, 119.0, 65.0]</td>\n      <td>['in a large bowl , cream butter and sugars un...</td>\n      <td>after trying unsuccessfully to log on to recip...</td>\n      <td>['margarine', 'sugar', 'brown sugar', 'eggs', ...</td>\n    </tr>\n  </tbody>\n</table>\n<p>639 rows × 6 columns</p>\n</div>"
     },
     "metadata": {},
     "execution_count": 12
    }
   ],
   "source": [
    "df3"
   ]
  },
  {
   "cell_type": "code",
   "execution_count": 13,
   "metadata": {},
   "outputs": [
    {
     "output_type": "execute_result",
     "data": {
      "text/plain": "                                        Name  Minutes  \\\n472                 pecan chocolate chippers       16   \n479                             petit gateau       27   \n397  molten chocolate cakes with irish cream       27   \n\n                                     Nutritient  \\\n472    [195.6, 19.0, 56.0, 5.0, 4.0, 26.0, 6.0]   \n479  [425.4, 49.0, 90.0, 1.0, 15.0, 94.0, 11.0]   \n397    [295.4, 39.0, 50.0, 8.0, 7.0, 76.0, 4.0]   \n\n                                                 Steps  \\\n472  ['beat butter until fluffy', 'add sugars , van...   \n479  ['break the chocolate and butter into small pi...   \n397  ['preheat oven to 450f and lightly butter four...   \n\n                                           Description  \\\n472  this excellent cookie has just enough dough to...   \n479  this is a terribly easy to make recipe of a de...   \n397  a romantic dessert for valentine's day or st. ...   \n\n                                           Ingridients  \n472  ['butter', 'light brown sugar', 'granulated su...  \n479  ['dark chocolate', 'unsalted butter', 'eggs', ...  \n397  ['butter', 'bittersweet chocolate', 'eggs', 's...  ",
      "text/html": "<div>\n<style scoped>\n    .dataframe tbody tr th:only-of-type {\n        vertical-align: middle;\n    }\n\n    .dataframe tbody tr th {\n        vertical-align: top;\n    }\n\n    .dataframe thead th {\n        text-align: right;\n    }\n</style>\n<table border=\"1\" class=\"dataframe\">\n  <thead>\n    <tr style=\"text-align: right;\">\n      <th></th>\n      <th>Name</th>\n      <th>Minutes</th>\n      <th>Nutritient</th>\n      <th>Steps</th>\n      <th>Description</th>\n      <th>Ingridients</th>\n    </tr>\n  </thead>\n  <tbody>\n    <tr>\n      <th>472</th>\n      <td>pecan chocolate chippers</td>\n      <td>16</td>\n      <td>[195.6, 19.0, 56.0, 5.0, 4.0, 26.0, 6.0]</td>\n      <td>['beat butter until fluffy', 'add sugars , van...</td>\n      <td>this excellent cookie has just enough dough to...</td>\n      <td>['butter', 'light brown sugar', 'granulated su...</td>\n    </tr>\n    <tr>\n      <th>479</th>\n      <td>petit gateau</td>\n      <td>27</td>\n      <td>[425.4, 49.0, 90.0, 1.0, 15.0, 94.0, 11.0]</td>\n      <td>['break the chocolate and butter into small pi...</td>\n      <td>this is a terribly easy to make recipe of a de...</td>\n      <td>['dark chocolate', 'unsalted butter', 'eggs', ...</td>\n    </tr>\n    <tr>\n      <th>397</th>\n      <td>molten chocolate cakes with irish cream</td>\n      <td>27</td>\n      <td>[295.4, 39.0, 50.0, 8.0, 7.0, 76.0, 4.0]</td>\n      <td>['preheat oven to 450f and lightly butter four...</td>\n      <td>a romantic dessert for valentine's day or st. ...</td>\n      <td>['butter', 'bittersweet chocolate', 'eggs', 's...</td>\n    </tr>\n  </tbody>\n</table>\n</div>"
     },
     "metadata": {},
     "execution_count": 13
    }
   ],
   "source": [
    "df3.sample(n=3)"
   ]
  },
  {
   "cell_type": "code",
   "execution_count": null,
   "metadata": {},
   "outputs": [],
   "source": []
  }
 ],
 "metadata": {
  "kernelspec": {
   "display_name": "Python 3",
   "language": "python",
   "name": "python3"
  },
  "language_info": {
   "codemirror_mode": {
    "name": "ipython",
    "version": 3
   },
   "file_extension": ".py",
   "mimetype": "text/x-python",
   "name": "python",
   "nbconvert_exporter": "python",
   "pygments_lexer": "ipython3",
   "version": "3.8.4rc1"
  }
 },
 "nbformat": 4,
 "nbformat_minor": 4
}